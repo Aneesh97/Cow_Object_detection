{
 "cells": [
  {
   "cell_type": "code",
   "execution_count": 3,
   "metadata": {},
   "outputs": [
    {
     "name": "stdout",
     "output_type": "stream",
     "text": [
      "Namespace(augment=False, batch_size=16, cfg='cfg/yolov3-spp.cfg', conf_thres=0.001, data='data/RGB.data', device='0', img_size=320, iou_thres=0.6, map_avg=False, save_json=False, single_cls=False, task='test', weights='RGB/backup/weights/last.pt')\n",
      "Using CUDA device0 _CudaDeviceProperties(name='Tesla K80', total_memory=11441MB)\n",
      "\n",
      "Model Summary: 225 layers, 6.25733e+07 parameters, 6.25733e+07 gradients\n",
      "Fusing layers...\n",
      "Model Summary: 152 layers, 6.25465e+07 parameters, 6.25465e+07 gradients\n",
      "Caching labels (50 found, 0 missing, 0 empty, 0 duplicate, for 50 images): 100%|\n",
      "               Class    Images   Targets         P         R   mAP@0.5        F1\n",
      "                 all        50       105     0.952      0.99      0.67     0.981\n",
      "Speed: 16.3/2.2/18.6 ms inference/NMS/total per 320x320 image at batch-size 16\n"
     ]
    }
   ],
   "source": [
    "!python test.py --data data/RGB.data --weights RGB/backup/weights/last.pt --img-size 320  --device 0 "
   ]
  },
  {
   "cell_type": "code",
   "execution_count": 8,
   "metadata": {},
   "outputs": [
    {
     "name": "stdout",
     "output_type": "stream",
     "text": [
      "Namespace(augment=False, batch_size=16, cfg='cfg/yolov3-spp.cfg', conf_thres=0.9, data='data/RGB.data', device='0', img_size=320, iou_thres=0.6, map_avg=False, save_json=False, single_cls=False, task='test', weights='RGB/backup/weights/best_RGB.pt')\n",
      "Using CUDA device0 _CudaDeviceProperties(name='Tesla K80', total_memory=11441MB)\n",
      "\n",
      "Model Summary: 225 layers, 6.25733e+07 parameters, 6.25733e+07 gradients\n",
      "Fusing layers...\n",
      "Model Summary: 152 layers, 6.25465e+07 parameters, 6.25465e+07 gradients\n",
      "Caching labels (50 found, 0 missing, 0 empty, 0 duplicate, for 50 images): 100%|\n",
      "               Class    Images   Targets         P         R   mAP@0.5        F1\n",
      "                 all        50       105     0.987     0.705     0.506     0.702\n",
      "Speed: 16.0/1.9/17.9 ms inference/NMS/total per 320x320 image at batch-size 16\n"
     ]
    }
   ],
   "source": [
    "!python test.py --data data/RGB.data --weights RGB/backup/weights/best_RGB.pt --img-size 320 --device 0 --conf-thres 0.9"
   ]
  },
  {
   "cell_type": "code",
   "execution_count": 5,
   "metadata": {},
   "outputs": [
    {
     "name": "stdout",
     "output_type": "stream",
     "text": [
      "Namespace(agnostic_nms=False, augment=False, cfg='cfg/yolov3-spp.cfg', classes=None, conf_thres=0.3, device='', fourcc='mp4v', half=False, img_size=320, iou_thres=0.6, names='data/cow_depth.names', output='output', save_txt=False, source='RGB/images/valid/', view_img=False, weights='RGB/backup/weights/last.pt')\n",
      "Using CUDA device0 _CudaDeviceProperties(name='Tesla K80', total_memory=11441MB)\n",
      "\n",
      "Model Summary: 225 layers, 6.25733e+07 parameters, 6.25733e+07 gradients\n",
      "image 1/50 RGB/images/valid/frame0.jpg: 192x320 2 cows, Done. (0.029s)\n",
      "image 2/50 RGB/images/valid/frame10.jpg: 192x320 2 cows, Done. (0.029s)\n",
      "image 3/50 RGB/images/valid/frame100.jpg: 192x320 1 cows, Done. (0.029s)\n",
      "image 4/50 RGB/images/valid/frame105.jpg: 192x320 2 cows, Done. (0.029s)\n",
      "image 5/50 RGB/images/valid/frame110.jpg: 192x320 2 cows, Done. (0.029s)\n",
      "image 6/50 RGB/images/valid/frame115.jpg: 192x320 2 cows, Done. (0.029s)\n",
      "image 7/50 RGB/images/valid/frame120.jpg: 192x320 2 cows, Done. (0.029s)\n",
      "image 8/50 RGB/images/valid/frame125.jpg: 192x320 2 cows, Done. (0.029s)\n",
      "image 9/50 RGB/images/valid/frame130.jpg: 192x320 2 cows, Done. (0.029s)\n",
      "image 10/50 RGB/images/valid/frame135.jpg: 192x320 2 cows, Done. (0.029s)\n",
      "image 11/50 RGB/images/valid/frame140.jpg: 192x320 2 cows, Done. (0.029s)\n",
      "image 12/50 RGB/images/valid/frame145.jpg: 192x320 1 cows, Done. (0.029s)\n",
      "image 13/50 RGB/images/valid/frame15.jpg: 192x320 2 cows, Done. (0.029s)\n",
      "image 14/50 RGB/images/valid/frame150.jpg: 192x320 1 cows, Done. (0.029s)\n",
      "image 15/50 RGB/images/valid/frame155.jpg: 192x320 2 cows, Done. (0.029s)\n",
      "image 16/50 RGB/images/valid/frame160.jpg: 192x320 2 cows, Done. (0.029s)\n",
      "image 17/50 RGB/images/valid/frame165.jpg: 192x320 3 cows, Done. (0.029s)\n",
      "image 18/50 RGB/images/valid/frame170.jpg: 192x320 3 cows, Done. (0.029s)\n",
      "image 19/50 RGB/images/valid/frame175.jpg: 192x320 3 cows, Done. (0.029s)\n",
      "image 20/50 RGB/images/valid/frame180.jpg: 192x320 3 cows, Done. (0.029s)\n",
      "image 21/50 RGB/images/valid/frame185.jpg: 192x320 3 cows, Done. (0.029s)\n",
      "detect.py:149: RuntimeWarning: More than 20 figures have been opened. Figures created through the pyplot interface (`matplotlib.pyplot.figure`) are retained until explicitly closed and may consume too much memory. (To control this warning, see the rcParam `figure.max_open_warning`).\n",
      "  fig = plt.figure(figsize=(12, 6), dpi=400)\n",
      "image 22/50 RGB/images/valid/frame190.jpg: 192x320 3 cows, Done. (0.029s)\n",
      "image 23/50 RGB/images/valid/frame195.jpg: 192x320 4 cows, Done. (0.029s)\n",
      "image 24/50 RGB/images/valid/frame20.jpg: 192x320 2 cows, Done. (0.029s)\n",
      "image 25/50 RGB/images/valid/frame200.jpg: 192x320 4 cows, Done. (0.029s)\n",
      "image 26/50 RGB/images/valid/frame210.jpg: 192x320 3 cows, Done. (0.029s)\n",
      "image 27/50 RGB/images/valid/frame215.jpg: 192x320 3 cows, Done. (0.029s)\n",
      "image 28/50 RGB/images/valid/frame220.jpg: 192x320 3 cows, Done. (0.029s)\n",
      "image 29/50 RGB/images/valid/frame225.jpg: 192x320 2 cows, Done. (0.029s)\n",
      "image 30/50 RGB/images/valid/frame230.jpg: 192x320 4 cows, Done. (0.029s)\n",
      "image 31/50 RGB/images/valid/frame235.jpg: 192x320 3 cows, Done. (0.029s)\n",
      "image 32/50 RGB/images/valid/frame240.jpg: 192x320 3 cows, Done. (0.029s)\n",
      "image 33/50 RGB/images/valid/frame245.jpg: 192x320 3 cows, Done. (0.029s)\n",
      "image 34/50 RGB/images/valid/frame25.jpg: 192x320 2 cows, Done. (0.029s)\n",
      "image 35/50 RGB/images/valid/frame250.jpg: 192x320 2 cows, Done. (0.029s)\n",
      "image 36/50 RGB/images/valid/frame30.jpg: 192x320 2 cows, Done. (0.029s)\n",
      "image 37/50 RGB/images/valid/frame35.jpg: 192x320 2 cows, Done. (0.029s)\n",
      "image 38/50 RGB/images/valid/frame40.jpg: 192x320 2 cows, Done. (0.029s)\n",
      "image 39/50 RGB/images/valid/frame45.jpg: 192x320 2 cows, Done. (0.029s)\n",
      "image 40/50 RGB/images/valid/frame5.jpg: 192x320 2 cows, Done. (0.029s)\n",
      "image 41/50 RGB/images/valid/frame50.jpg: 192x320 1 cows, Done. (0.029s)\n",
      "image 42/50 RGB/images/valid/frame55.jpg: 192x320 1 cows, Done. (0.029s)\n",
      "image 43/50 RGB/images/valid/frame60.jpg: 192x320 1 cows, Done. (0.029s)\n",
      "image 44/50 RGB/images/valid/frame65.jpg: 192x320 1 cows, Done. (0.029s)\n",
      "image 45/50 RGB/images/valid/frame70.jpg: 192x320 1 cows, Done. (0.029s)\n",
      "image 46/50 RGB/images/valid/frame75.jpg: 192x320 1 cows, Done. (0.029s)\n",
      "image 47/50 RGB/images/valid/frame80.jpg: 192x320 1 cows, Done. (0.029s)\n",
      "image 48/50 RGB/images/valid/frame85.jpg: 192x320 1 cows, Done. (0.029s)\n",
      "image 49/50 RGB/images/valid/frame90.jpg: 192x320 1 cows, Done. (0.029s)\n",
      "image 50/50 RGB/images/valid/frame95.jpg: 192x320 1 cows, Done. (0.029s)\n",
      "Results saved to /floyd/home/yolov3_pytorch/output\n",
      "Done. (63.556s)\n"
     ]
    }
   ],
   "source": [
    "!python3 detect.py --source RGB/images/valid/ --names data/cow_depth.names --weights RGB/backup/weights/last.pt --img-size 320"
   ]
  },
  {
   "cell_type": "code",
   "execution_count": null,
   "metadata": {},
   "outputs": [],
   "source": []
  }
 ],
 "metadata": {
  "kernelspec": {
   "display_name": "Python 3",
   "language": "python",
   "name": "python3"
  },
  "language_info": {
   "codemirror_mode": {
    "name": "ipython",
    "version": 3
   },
   "file_extension": ".py",
   "mimetype": "text/x-python",
   "name": "python",
   "nbconvert_exporter": "python",
   "pygments_lexer": "ipython3",
   "version": "3.7.7"
  }
 },
 "nbformat": 4,
 "nbformat_minor": 4
}
